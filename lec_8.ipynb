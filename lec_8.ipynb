{
  "nbformat": 4,
  "nbformat_minor": 0,
  "metadata": {
    "colab": {
      "name": "lec_8.ipynb",
      "provenance": [],
      "collapsed_sections": [],
      "authorship_tag": "ABX9TyN/JcoOnZTZ9AKNPTtsgJhu",
      "include_colab_link": true
    },
    "kernelspec": {
      "name": "python3",
      "display_name": "Python 3"
    },
    "language_info": {
      "name": "python"
    }
  },
  "cells": [
    {
      "cell_type": "markdown",
      "metadata": {
        "id": "view-in-github",
        "colab_type": "text"
      },
      "source": [
        "<a href=\"https://colab.research.google.com/github/kSH-2021/PyTorchZeroToAll/blob/main/lec_8.ipynb\" target=\"_parent\"><img src=\"https://colab.research.google.com/assets/colab-badge.svg\" alt=\"Open In Colab\"/></a>"
      ]
    },
    {
      "cell_type": "code",
      "metadata": {
        "id": "gvRIFJ2eDiQ9"
      },
      "source": [
        "batch_size =64\n",
        "train_loader =torch.utils.data.DataLoader(datasets.MNIST('../data',train=True,download=True,transform=transforms.Compose([transforms.ToTensor(),transforms.Normalize((0.1307,),(0.3081,))])),batch_size=batch_size,shuffle=True)\n",
        "test_loader=torch.utils.data.DataLoader(datasets.MNIST('../data',train=False,transform=transforms.Compose([transforms.ToTensor(),transforms.Normalize((0.1307,),(0.3081,))])),batch_size=batch_size,shuffle=True)\n",
        "\n",
        "class Net(nn.Module):\n",
        "  def __init__(self):\n",
        "    super(Net,self).__init__()\n",
        "    self.l1=nn.Linear(784,520)\n",
        "    self.l2=nn.Linear(520,320)\n",
        "    self.l3=nn.Linear(320,240)\n",
        "    self.l4=nn.Linear(240,120)\n",
        "    self.l5=nn.Linear(120,10)\n",
        "  def forward(self,x):\n",
        "    x=x.view(-1,784) #flatten the data(n,1,28,28)->(n,784)\n",
        "    x=F.relu(self.l1(x))\n",
        "    x=F.relu(self.l2(x))\n",
        "    x=F.relu(self.l3(x))\n",
        "    x=F.relu(self.l4(x))\n",
        "    return self.l5(x)\n",
        "model=Net()\n",
        "\n",
        "criterion = nn.CrossEntropyLoss()\n",
        "optimizer = optim.SGD(model.parameters(),lr=0.01,momentum=0.5)\n",
        "def train(epoch):\n",
        "  model.train()\n",
        "  for batch_idx,(data,target) in enumerate(train_loader):\n",
        "    data, target=Variable(data),Variable(target)\n",
        "    optimizer.zero.grad()\n",
        "    output=model(data)\n",
        "    loss=criterion(output,target)\n",
        "    loss.backward()\n",
        "    optimizer.step()\n",
        "    if batch_idx % 10 ==0:\n",
        "      print(\"Train epoch: {} [{}/{} ({: 0f}%)]\\tLoss: {:,6f}'.format())\n",
        "# 더 하기~ 9강 14:30초"
      ],
      "execution_count": null,
      "outputs": []
    }
  ]
}